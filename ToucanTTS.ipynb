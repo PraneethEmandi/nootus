{
  "nbformat": 4,
  "nbformat_minor": 0,
  "metadata": {
    "colab": {
      "provenance": [],
      "gpuType": "T4",
      "include_colab_link": true
    },
    "kernelspec": {
      "name": "python3",
      "display_name": "Python 3"
    },
    "language_info": {
      "name": "python"
    },
    "accelerator": "GPU"
  },
  "cells": [
    {
      "cell_type": "markdown",
      "metadata": {
        "id": "view-in-github",
        "colab_type": "text"
      },
      "source": [
        "<a href=\"https://colab.research.google.com/github/PraneethEmandi/nootus/blob/main/ToucanTTS.ipynb\" target=\"_parent\"><img src=\"https://colab.research.google.com/assets/colab-badge.svg\" alt=\"Open In Colab\"/></a>"
      ]
    },
    {
      "cell_type": "code",
      "source": [
        "# If required cleanup to start fresh. Delete the folders\n",
        "! rm -r /content/ToucanTTS"
      ],
      "metadata": {
        "colab": {
          "base_uri": "https://localhost:8080/"
        },
        "id": "EowtmIXOI7xg",
        "outputId": "fb95b756-51ed-419e-8267-da6c70ff37f6"
      },
      "execution_count": null,
      "outputs": [
        {
          "output_type": "stream",
          "name": "stdout",
          "text": [
            "/content\n"
          ]
        }
      ]
    },
    {
      "cell_type": "code",
      "source": [
        "# setup and install required packages. This takes around 5 mins and\n",
        "# not output will be shown during setup\n",
        "\n",
        "%%bash\n",
        "cd /content\n",
        "mkdir /content/ToucanTTS\n",
        "cd /content/ToucanTTS\n",
        "apt install python3.10-venv\n",
        "apt-get install libportaudio2\n",
        "python -m venv .venv\n",
        "source .venv/bin/activate\n",
        "which python\n",
        "pip install torch==2.1.2 torchvision==0.16.2 torchaudio==2.1.2 --index-url https://download.pytorch.org/whl/cu118\n",
        "git clone https://github.com/DigitalPhonetics/IMS-Toucan.git\n",
        "cd /content/ToucanTTS/IMS-Toucan\n",
        "mkdir audios\n",
        "mkdir audios/speaker_references\n",
        "pip install -r requirements.txt\n",
        "pip install librosa\n",
        "# pip install pyaudio\n",
        "python run_model_downloader.py\n",
        "apt-get install espeak-ng"
      ],
      "metadata": {
        "id": "AtxexCBV0OeW"
      },
      "execution_count": null,
      "outputs": []
    },
    {
      "cell_type": "code",
      "source": [
        "# Generated files are located under /content/ToucanTTS/IMS-Toucan/audios folder\n",
        "\n",
        "%%bash\n",
        "source /content/ToucanTTS/.venv/bin/activate\n",
        "cd /content/ToucanTTS/IMS-Toucan\n",
        "python run_text_to_file_reader.py"
      ],
      "metadata": {
        "id": "yzPpiKe3kZpt"
      },
      "execution_count": null,
      "outputs": []
    }
  ]
}